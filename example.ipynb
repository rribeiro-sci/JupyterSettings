{
 "cells": [
  {
   "cell_type": "code",
   "execution_count": null,
   "id": "8a87a7c3",
   "metadata": {},
   "outputs": [],
   "source": [
    "import JupyterSettings"
   ]
  },
  {
   "cell_type": "markdown",
   "id": "326e468b",
   "metadata": {},
   "source": [
    "## Increase cell width to 99%"
   ]
  },
  {
   "cell_type": "code",
   "execution_count": null,
   "id": "6eb6c3e0",
   "metadata": {},
   "outputs": [],
   "source": [
    "JupyterSettings.CellSize(90)"
   ]
  },
  {
   "cell_type": "markdown",
   "id": "7d1d4165",
   "metadata": {},
   "source": [
    "or"
   ]
  },
  {
   "cell_type": "code",
   "execution_count": null,
   "id": "d0bf1cc6",
   "metadata": {},
   "outputs": [],
   "source": [
    "JupyterSettings.CellSize(99)"
   ]
  },
  {
   "cell_type": "markdown",
   "id": "33525951",
   "metadata": {},
   "source": [
    "## Matplotlib high resolution rendering"
   ]
  },
  {
   "cell_type": "code",
   "execution_count": null,
   "id": "7fe1a170",
   "metadata": {},
   "outputs": [],
   "source": [
    "JupyterSettings.Retina()"
   ]
  },
  {
   "cell_type": "markdown",
   "id": "a5b96f6b",
   "metadata": {},
   "source": [
    "## Autoreload modules (development mode)"
   ]
  },
  {
   "cell_type": "code",
   "execution_count": null,
   "id": "785877d2",
   "metadata": {},
   "outputs": [],
   "source": [
    "JupyterSettings.AutoReload()"
   ]
  },
  {
   "cell_type": "markdown",
   "id": "96fd54fa",
   "metadata": {},
   "source": [
    "## Display ipywidgets side-by-side "
   ]
  },
  {
   "cell_type": "code",
   "execution_count": null,
   "id": "7ec92965",
   "metadata": {},
   "outputs": [],
   "source": [
    "JupyterSettings.SideBySide(True)"
   ]
  }
 ],
 "metadata": {
  "kernelspec": {
   "display_name": "Python [conda env:base] *",
   "language": "python",
   "name": "conda-base-py"
  },
  "language_info": {
   "codemirror_mode": {
    "name": "ipython",
    "version": 3
   },
   "file_extension": ".py",
   "mimetype": "text/x-python",
   "name": "python",
   "nbconvert_exporter": "python",
   "pygments_lexer": "ipython3",
   "version": "3.12.2"
  },
  "varInspector": {
   "cols": {
    "lenName": 16,
    "lenType": 16,
    "lenVar": 40
   },
   "kernels_config": {
    "python": {
     "delete_cmd_postfix": "",
     "delete_cmd_prefix": "del ",
     "library": "var_list.py",
     "varRefreshCmd": "print(var_dic_list())"
    },
    "r": {
     "delete_cmd_postfix": ") ",
     "delete_cmd_prefix": "rm(",
     "library": "var_list.r",
     "varRefreshCmd": "cat(var_dic_list()) "
    }
   },
   "types_to_exclude": [
    "module",
    "function",
    "builtin_function_or_method",
    "instance",
    "_Feature"
   ],
   "window_display": false
  }
 },
 "nbformat": 4,
 "nbformat_minor": 5
}
